{
 "cells": [
  {
   "cell_type": "code",
   "execution_count": 8,
   "id": "a13d6bde",
   "metadata": {},
   "outputs": [
    {
     "name": "stdout",
     "output_type": "stream",
     "text": [
      "Collecting scikit-learn\n",
      "  Downloading scikit_learn-0.24.2-cp38-cp38-manylinux2010_x86_64.whl (24.9 MB)\n",
      "\u001b[K     |████████████████████████████████| 24.9 MB 34 kB/s  eta 0:00:01   |▏                               | 102 kB 558 kB/s eta 0:00:45     |██████████████▊                 | 11.4 MB 3.2 MB/s eta 0:00:05     |███████████████████████▌        | 18.3 MB 4.3 MB/s eta 0:00:02\n",
      "\u001b[?25hCollecting joblib>=0.11\n",
      "  Downloading joblib-1.0.1-py3-none-any.whl (303 kB)\n",
      "\u001b[K     |████████████████████████████████| 303 kB 2.9 MB/s eta 0:00:01\n",
      "\u001b[?25hCollecting threadpoolctl>=2.0.0\n",
      "  Downloading threadpoolctl-2.1.0-py3-none-any.whl (12 kB)\n",
      "Requirement already satisfied: numpy>=1.13.3 in /home/destroks/.local/lib/python3.8/site-packages (from scikit-learn) (1.20.3)\n",
      "Collecting scipy>=0.19.1\n",
      "  Downloading scipy-1.6.3-cp38-cp38-manylinux1_x86_64.whl (27.2 MB)\n",
      "\u001b[K     |████████████████████████████████| 27.2 MB 2.8 kB/s eta 0:00:01\n",
      "\u001b[?25hInstalling collected packages: joblib, threadpoolctl, scipy, scikit-learn\n",
      "Successfully installed joblib-1.0.1 scikit-learn-0.24.2 scipy-1.6.3 threadpoolctl-2.1.0\n"
     ]
    }
   ],
   "source": [
    "!pip install scikit-learn"
   ]
  },
  {
   "cell_type": "code",
   "execution_count": 9,
   "id": "1238304e",
   "metadata": {},
   "outputs": [],
   "source": [
    "import numpy as np\n",
    "import random\n",
    "from sklearn.metrics import mean_squared_error"
   ]
  },
  {
   "cell_type": "markdown",
   "id": "cab31c90",
   "metadata": {},
   "source": [
    "# Inicializando matriz de movimientos validos\n",
    ">Creamos las posibilidades en un array de 4,16,16 siendo 4 los movimientos(izquierda, derecha, arriba y abajo) y las otras dos dimensiones de la matriz para cada acción\n"
   ]
  },
  {
   "cell_type": "code",
   "execution_count": 10,
   "id": "a65cda85",
   "metadata": {},
   "outputs": [],
   "source": [
    "Prob = np.array([[[1, 0, 0, 0, 0, 0, 0, 0, 0,  0,  0,  0,  0,  0,  0,  0],\n",
    "                   [1, 0, 0, 0, 0, 0, 0, 0, 0,  0,  0,  0,  0,  0,  0,  0],\n",
    "                   [0, 1, 0, 0, 0, 0, 0, 0, 0,  0,  0,  0,  0,  0,  0,  0],\n",
    "                   [0, 0, 1, 0, 0, 0, 0, 0, 0,  0,  0,  0,  0,  0,  0,  0],\n",
    "                   [0, 0, 0, 0, 0, 0, 0, 0, 0,  0,  0,  0,  0,  0,  0,  0],\n",
    "                   [0, 0, 0, 0, 1, 0, 0, 0, 0,  0,  0,  0,  0,  0,  0,  0],    #izauierda\n",
    "                   [0, 0, 0, 0, 0, 1, 0, 0, 0,  0,  0,  0,  0,  0,  0,  0],\n",
    "                   [0, 0, 0, 0, 0, 0, 1, 0, 0,  0,  0,  0,  0,  0,  0,  0],\n",
    "                   [0, 0, 0, 0, 0, 0, 0, 0, 1,  0,  0,  0,  0,  0,  0,  0],\n",
    "                   [0, 0, 0, 0, 0, 0, 0, 0, 1,  0,  0,  0,  0,  0,  0,  0],\n",
    "                   [0, 0, 0, 0, 0, 0, 0, 0, 0,  1,  0,  0,  0,  0,  0,  0],\n",
    "                   [0, 0, 0, 0, 0, 0, 0, 0, 0,  0,  0,  0,  0,  0,  0,  0],\n",
    "                   [0, 0, 0, 0, 0, 0, 0, 0, 0,  0,  0,  0,  1,  0,  0,  0],\n",
    "                   [0, 0, 0, 0, 0, 0, 0, 0, 0,  0,  0,  0,  1,  0,  0,  0],\n",
    "                   [0, 0, 0, 0, 0, 0, 0, 0, 0,  0,  0,  0,  0,  1,  0,  0],\n",
    "                   [0, 0, 0, 0, 0, 0, 0, 0, 0,  0,  0,  0,  0,  0,  1,  0]],\n",
    "\n",
    "                  [[0, 1, 0, 0, 0, 0, 0, 0, 0,  0,  0,  0,  0,  0,  0,  0],\n",
    "                   [0, 0, 1, 0, 0, 0, 0, 0, 0,  0,  0,  0,  0,  0,  0,  0],\n",
    "                   [0, 0, 0, 1, 0, 0, 0, 0, 0,  0,  0,  0,  0,  0,  0,  0],\n",
    "                   [0, 0, 0, 1, 0, 0, 0, 0, 0,  0,  0,  0,  0,  0,  0,  0],\n",
    "                   [0, 0, 0, 0, 0, 0, 0, 0, 0,  0,  0,  0,  0,  0,  0,  0],\n",
    "                   [0, 0, 0, 0, 0, 0, 1, 0, 0,  0,  0,  0,  0,  0,  0,  0],\n",
    "                   [0, 0, 0, 0, 0, 0, 0, 1, 0,  0,  0,  0,  0,  0,  0,  0],   # derecha\n",
    "                   [0, 0, 0, 0, 0, 0, 0, 1, 0,  0,  0,  0,  0,  0,  0,  0],\n",
    "                   [0, 0, 0, 0, 0, 0, 0, 0, 0,  1,  0,  0,  0,  0,  0,  0],\n",
    "                   [0, 0, 0, 0, 0, 0, 0, 0, 0,  0,  1,  0,  0,  0,  0,  0],\n",
    "                   [0, 0, 0, 0, 0, 0, 0, 0, 0,  0,  0,  1,  0,  0,  0,  0],\n",
    "                   [0, 0, 0, 0, 0, 0, 0, 0, 0,  0,  0,  0,  0,  0,  0,  0],\n",
    "                   [0, 0, 0, 0, 0, 0, 0, 0, 0,  0,  0,  0,  0,  1,  0,  0],\n",
    "                   [0, 0, 0, 0, 0, 0, 0, 0, 0,  0,  0,  0,  0,  0,  1,  0],\n",
    "                   [0, 0, 0, 0, 0, 0, 0, 0, 0,  0,  0,  0,  0,  0,  0,  1],\n",
    "                   [0, 0, 0, 0, 0, 0, 0, 0, 0,  0,  0,  0,  0,  0,  0,  1]],\n",
    "\n",
    "                  [[1, 0, 0, 0, 0, 0, 0, 0, 0,  0,  0,  0,  0,  0,  0,  0],\n",
    "                   [0, 1, 0, 0, 0, 0, 0, 0, 0,  0,  0,  0,  0,  0,  0,  0],\n",
    "                   [0, 0, 1, 0, 0, 0, 0, 0, 0,  0,  0,  0,  0,  0,  0,  0],\n",
    "                   [0, 0, 0, 1, 0, 0, 0, 0, 0,  0,  0,  0,  0,  0,  0,  0],\n",
    "                   [0, 0, 0, 0, 0, 0, 0, 0, 0,  0,  0,  0,  0,  0,  0,  0],\n",
    "                   [0, 0, 0, 0, 0, 1, 0, 0, 0,  0,  0,  0,  0,  0,  0,  0],\n",
    "                   [0, 0, 0, 0, 0, 0, 1, 0, 0,  0,  0,  0,  0,  0,  0,  0], # arriba\n",
    "                   [0, 0, 0, 1, 0, 0, 0, 0, 0,  0,  0,  0,  0,  0,  0,  0],\n",
    "                   [0, 0, 0, 0, 1, 0, 0, 0, 0,  0,  0,  0,  0,  0,  0,  0],\n",
    "                   [0, 0, 0, 0, 0, 1, 0, 0, 0,  0,  0,  0,  0,  0,  0,  0],\n",
    "                   [0, 0, 0, 0, 0, 0, 1, 0, 0,  0,  0,  0,  0,  0,  0,  0],\n",
    "                   [0, 0, 0, 0, 0, 0, 0, 0, 0,  0,  0,  0,  0,  0,  0,  0],\n",
    "                   [0, 0, 0, 0, 0, 0, 0, 0, 1,  0,  0,  0,  0,  0,  0,  0],\n",
    "                   [0, 0, 0, 0, 0, 0, 0, 0, 0,  0,  0,  0,  0,  1,  0,  0],\n",
    "                   [0, 0, 0, 0, 0, 0, 0, 0, 0,  0,  0,  0,  0,  0,  1,  0],\n",
    "                   [0, 0, 0, 0, 0, 0, 0, 0, 0,  0,  0,  0,  0,  0,  0,  1]],\n",
    "\n",
    "                  [[1, 0, 0, 0, 0, 0, 0, 0, 0,  0,  0,  0,  0,  0,  0,  0],\n",
    "                   [0, 1, 0, 0, 0, 0, 0, 0, 0,  0,  0,  0,  0,  0,  0,  0],\n",
    "                   [0, 0, 1, 0, 0, 0, 0, 0, 0,  0,  0,  0,  0,  0,  0,  0],\n",
    "                   [0, 0, 0, 0, 0, 0, 0, 1, 0,  0,  0,  0,  0,  0,  0,  0],\n",
    "                   [0, 0, 0, 0, 0, 0, 0, 0, 0,  0,  0,  0,  0,  0,  0,  0], # Abajo\n",
    "                   [0, 0, 0, 0, 0, 0, 0, 0, 0,  1,  0,  0,  0,  0,  0,  0],\n",
    "                   [0, 0, 0, 0, 0, 0, 0, 0, 0,  0,  1,  0,  0,  0,  0,  0],\n",
    "                   [0, 0, 0, 0, 0, 0, 0, 0, 0,  0,  0,  1,  0,  0,  0,  0],\n",
    "                   [0, 0, 0, 0, 0, 0, 0, 0, 0,  0,  0,  0,  1,  0,  0,  0],\n",
    "                   [0, 0, 0, 0, 0, 0, 0, 0, 0,  1,  0,  0,  0,  0,  0,  0],\n",
    "                   [0, 0, 0, 0, 0, 0, 0, 0, 0,  0,  1,  0,  0,  0,  0,  0],\n",
    "                   [0, 0, 0, 0, 0, 0, 0, 0, 0,  0,  0,  0,  0,  0,  0,  0],\n",
    "                   [0, 0, 0, 0, 0, 0, 0, 0, 0,  0,  0,  0,  1,  0,  0,  0],\n",
    "                   [0, 0, 0, 0, 0, 0, 0, 0, 0,  0,  0,  0,  0,  1,  0,  0],\n",
    "                   [0, 0, 0, 0, 0, 0, 0, 0, 0,  0,  0,  0,  0,  0,  1,  0],\n",
    "                   [0, 0, 0, 0, 0, 0, 0, 0, 0,  0,  0,  0,  0,  0,  0,  1]]], dtype=float)"
   ]
  },
  {
   "cell_type": "code",
   "execution_count": 11,
   "id": "f9ec8424",
   "metadata": {},
   "outputs": [
    {
     "name": "stdout",
     "output_type": "stream",
     "text": [
      "states: 16\n",
      "actions: 4\n"
     ]
    }
   ],
   "source": [
    "red_square = 4\n",
    "green_square = 11\n",
    "neig_red = [(5,0),(8,2)]\n",
    "neig_gree = [(7,3),(10,1)]\n",
    "states = Prob.shape[1] #16\n",
    "actions = Prob.shape[0] #4\n",
    "print(\"states:\",states)\n",
    "print(\"actions:\", actions)\n"
   ]
  },
  {
   "cell_type": "code",
   "execution_count": 12,
   "id": "be1fa90a",
   "metadata": {},
   "outputs": [],
   "source": [
    "#ejercicio a\n",
    "rewards_ = [{\"rs\":-1.0},{\"rs\":0.0},{\"rs\":1.0}]\n",
    "policies = []\n",
    "gamma = 1.0"
   ]
  },
  {
   "cell_type": "code",
   "execution_count": 17,
   "id": "c869519a",
   "metadata": {},
   "outputs": [],
   "source": [
    "def value_actions(num_states, num_actions, state, rewards, gamma, Mat_pro, Vec_val):\n",
    "    max_val = None\n",
    "    max_action = None\n",
    "    for action in range(num_actions):\n",
    "        suma = 0\n",
    "        for state_in in range(num_states):\n",
    "            suma += Mat_pro[action,state,rewards] * Vec_val[state_in]\n",
    "        value = rewards[state,action]+gamma*suma\n",
    "        if max_val == None or max_val < value:\n",
    "            max_val = value\n",
    "            max_action = action\n",
    "    return max_val, max_action\n",
    "            \n",
    "        "
   ]
  },
  {
   "cell_type": "code",
   "execution_count": 19,
   "id": "96d80f56",
   "metadata": {},
   "outputs": [
    {
     "name": "stdout",
     "output_type": "stream",
     "text": [
      "rr [[-1. -1. -1. -1.]\n",
      " [-1. -1. -1. -1.]\n",
      " [-1. -1. -1. -1.]\n",
      " [-1. -1. -1. -1.]\n",
      " [-1. -1. -1. -1.]\n",
      " [-1. -1. -1. -1.]\n",
      " [-1. -1. -1. -1.]\n",
      " [-1. -1. -1. -1.]\n",
      " [-1. -1. -1. -1.]\n",
      " [-1. -1. -1. -1.]\n",
      " [-1. -1. -1. -1.]\n",
      " [-1. -1. -1. -1.]\n",
      " [-1. -1. -1. -1.]\n",
      " [-1. -1. -1. -1.]\n",
      " [-1. -1. -1. -1.]\n",
      " [-1. -1. -1. -1.]]\n"
     ]
    },
    {
     "ename": "IndexError",
     "evalue": "arrays used as indices must be of integer (or boolean) type",
     "output_type": "error",
     "traceback": [
      "\u001b[0;31m---------------------------------------------------------------------------\u001b[0m",
      "\u001b[0;31mIndexError\u001b[0m                                Traceback (most recent call last)",
      "\u001b[0;32m<ipython-input-19-87d71522c184>\u001b[0m in \u001b[0;36m<module>\u001b[0;34m\u001b[0m\n\u001b[1;32m     16\u001b[0m     \u001b[0;32mwhile\u001b[0m \u001b[0;32mTrue\u001b[0m\u001b[0;34m:\u001b[0m\u001b[0;34m\u001b[0m\u001b[0;34m\u001b[0m\u001b[0m\n\u001b[1;32m     17\u001b[0m         \u001b[0;32mfor\u001b[0m \u001b[0mstate\u001b[0m \u001b[0;32min\u001b[0m \u001b[0mrange\u001b[0m\u001b[0;34m(\u001b[0m\u001b[0mstates\u001b[0m\u001b[0;34m)\u001b[0m\u001b[0;34m:\u001b[0m\u001b[0;34m\u001b[0m\u001b[0;34m\u001b[0m\u001b[0m\n\u001b[0;32m---> 18\u001b[0;31m             \u001b[0mval\u001b[0m\u001b[0;34m,\u001b[0m \u001b[0maction\u001b[0m \u001b[0;34m=\u001b[0m \u001b[0mvalue_actions\u001b[0m\u001b[0;34m(\u001b[0m\u001b[0mstates\u001b[0m\u001b[0;34m,\u001b[0m\u001b[0mactions\u001b[0m\u001b[0;34m,\u001b[0m\u001b[0mstate\u001b[0m\u001b[0;34m,\u001b[0m\u001b[0mrewards\u001b[0m\u001b[0;34m,\u001b[0m\u001b[0mgamma\u001b[0m\u001b[0;34m,\u001b[0m\u001b[0mProb\u001b[0m\u001b[0;34m,\u001b[0m\u001b[0mV_old\u001b[0m\u001b[0;34m)\u001b[0m\u001b[0;34m\u001b[0m\u001b[0;34m\u001b[0m\u001b[0m\n\u001b[0m\u001b[1;32m     19\u001b[0m             \u001b[0mv_new\u001b[0m\u001b[0;34m[\u001b[0m\u001b[0mstate\u001b[0m\u001b[0;34m]\u001b[0m \u001b[0;34m=\u001b[0m \u001b[0mval\u001b[0m\u001b[0;34m\u001b[0m\u001b[0;34m\u001b[0m\u001b[0m\n\u001b[1;32m     20\u001b[0m             \u001b[0mpolicy\u001b[0m\u001b[0;34m[\u001b[0m\u001b[0mstate\u001b[0m\u001b[0;34m]\u001b[0m \u001b[0;34m=\u001b[0m \u001b[0maction\u001b[0m\u001b[0;34m\u001b[0m\u001b[0;34m\u001b[0m\u001b[0m\n",
      "\u001b[0;32m<ipython-input-17-bf0abe5ebdfb>\u001b[0m in \u001b[0;36mvalue_actions\u001b[0;34m(num_states, num_actions, state, rewards, gamma, Mat_pro, Vec_val)\u001b[0m\n\u001b[1;32m      5\u001b[0m         \u001b[0msuma\u001b[0m \u001b[0;34m=\u001b[0m \u001b[0;36m0\u001b[0m\u001b[0;34m\u001b[0m\u001b[0;34m\u001b[0m\u001b[0m\n\u001b[1;32m      6\u001b[0m         \u001b[0;32mfor\u001b[0m \u001b[0mstate_in\u001b[0m \u001b[0;32min\u001b[0m \u001b[0mrange\u001b[0m\u001b[0;34m(\u001b[0m\u001b[0mnum_states\u001b[0m\u001b[0;34m)\u001b[0m\u001b[0;34m:\u001b[0m\u001b[0;34m\u001b[0m\u001b[0;34m\u001b[0m\u001b[0m\n\u001b[0;32m----> 7\u001b[0;31m             \u001b[0msuma\u001b[0m \u001b[0;34m+=\u001b[0m \u001b[0mMat_pro\u001b[0m\u001b[0;34m[\u001b[0m\u001b[0maction\u001b[0m\u001b[0;34m,\u001b[0m\u001b[0mstate\u001b[0m\u001b[0;34m,\u001b[0m\u001b[0mrewards\u001b[0m\u001b[0;34m]\u001b[0m \u001b[0;34m*\u001b[0m \u001b[0mVec_val\u001b[0m\u001b[0;34m[\u001b[0m\u001b[0mstate_in\u001b[0m\u001b[0;34m]\u001b[0m\u001b[0;34m\u001b[0m\u001b[0;34m\u001b[0m\u001b[0m\n\u001b[0m\u001b[1;32m      8\u001b[0m         \u001b[0mvalue\u001b[0m \u001b[0;34m=\u001b[0m \u001b[0mrewards\u001b[0m\u001b[0;34m[\u001b[0m\u001b[0mstate\u001b[0m\u001b[0;34m,\u001b[0m\u001b[0maction\u001b[0m\u001b[0;34m]\u001b[0m\u001b[0;34m+\u001b[0m\u001b[0mgamma\u001b[0m\u001b[0;34m*\u001b[0m\u001b[0msuma\u001b[0m\u001b[0;34m\u001b[0m\u001b[0;34m\u001b[0m\u001b[0m\n\u001b[1;32m      9\u001b[0m         \u001b[0;32mif\u001b[0m \u001b[0mmax_val\u001b[0m \u001b[0;34m==\u001b[0m \u001b[0;32mNone\u001b[0m \u001b[0;32mor\u001b[0m \u001b[0mmax_val\u001b[0m \u001b[0;34m<\u001b[0m \u001b[0mvalue\u001b[0m\u001b[0;34m:\u001b[0m\u001b[0;34m\u001b[0m\u001b[0;34m\u001b[0m\u001b[0m\n",
      "\u001b[0;31mIndexError\u001b[0m: arrays used as indices must be of integer (or boolean) type"
     ]
    }
   ],
   "source": [
    "for rew in rewards_:\n",
    "    V_old = np.zeros(states,dtype=float)\n",
    "    V_new = np.zeros(states,dtype=float)\n",
    "    rewards = np.full((states,actions),rew[\"rs\"],dtype=float)\n",
    "    print(\"rr\",rewards)\n",
    "    for state_action in neig_red:\n",
    "        rewards[state_action[0],state_action[1]] = -5.0\n",
    "    for state_action in neig_gree:\n",
    "        rewards[state_action[0],state_action[1]] = 5.0\n",
    "    for action in range(actions):\n",
    "        rewards[red_square,action] = 0.0\n",
    "    for action in range(actions):\n",
    "        rewards[green_square,action] = 0.0\n",
    "    policy = np.zeros(states,dtype=int)\n",
    "    iterations = 0\n",
    "    while True:\n",
    "        for state in range(states):\n",
    "            val, action = value_actions(states,actions,state,rewards,gamma,Prob,V_old)\n",
    "            v_new[state] = val\n",
    "            policy[state] = action\n",
    "            if mean_square_error(V_old,V_new) < 0.001:\n",
    "                break\n",
    "            V_old = np.copy(V_new)\n",
    "            iterations+=1\n",
    "            if iterations >= 1000:\n",
    "                print(\"No converge\")\n",
    "                break\n",
    "    policies.append(policy)\n",
    "    print(\"iteraciones:\",iterations)\n",
    "    print(\"politica\",polyci)\n",
    "    print(\"Valor\",V_new)\n"
   ]
  },
  {
   "cell_type": "code",
   "execution_count": null,
   "id": "92b1e2f2",
   "metadata": {},
   "outputs": [],
   "source": []
  }
 ],
 "metadata": {
  "kernelspec": {
   "display_name": "Python 3",
   "language": "python",
   "name": "python3"
  },
  "language_info": {
   "codemirror_mode": {
    "name": "ipython",
    "version": 3
   },
   "file_extension": ".py",
   "mimetype": "text/x-python",
   "name": "python",
   "nbconvert_exporter": "python",
   "pygments_lexer": "ipython3",
   "version": "3.8.5"
  }
 },
 "nbformat": 4,
 "nbformat_minor": 5
}
